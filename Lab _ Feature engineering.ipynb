{
 "cells": [
  {
   "cell_type": "code",
   "execution_count": 1,
   "id": "52aa20f5",
   "metadata": {},
   "outputs": [],
   "source": [
    "import pandas as pd\n",
    "import numpy as np\n",
    "import matplotlib.pyplot as plt\n",
    "import seaborn as sns\n",
    "import warnings \n",
    "warnings.filterwarnings('ignore')"
   ]
  },
  {
   "cell_type": "code",
   "execution_count": 2,
   "id": "4e6a4f88",
   "metadata": {},
   "outputs": [],
   "source": [
    "data = pd.read_csv('learningSet.csv')"
   ]
  },
  {
   "cell_type": "code",
   "execution_count": 3,
   "id": "86459f81",
   "metadata": {},
   "outputs": [
    {
     "data": {
      "text/html": [
       "<div>\n",
       "<style scoped>\n",
       "    .dataframe tbody tr th:only-of-type {\n",
       "        vertical-align: middle;\n",
       "    }\n",
       "\n",
       "    .dataframe tbody tr th {\n",
       "        vertical-align: top;\n",
       "    }\n",
       "\n",
       "    .dataframe thead th {\n",
       "        text-align: right;\n",
       "    }\n",
       "</style>\n",
       "<table border=\"1\" class=\"dataframe\">\n",
       "  <thead>\n",
       "    <tr style=\"text-align: right;\">\n",
       "      <th></th>\n",
       "      <th>ODATEDW</th>\n",
       "      <th>OSOURCE</th>\n",
       "      <th>TCODE</th>\n",
       "      <th>STATE</th>\n",
       "      <th>ZIP</th>\n",
       "      <th>MAILCODE</th>\n",
       "      <th>PVASTATE</th>\n",
       "      <th>DOB</th>\n",
       "      <th>NOEXCH</th>\n",
       "      <th>RECINHSE</th>\n",
       "      <th>...</th>\n",
       "      <th>TARGET_D</th>\n",
       "      <th>HPHONE_D</th>\n",
       "      <th>RFA_2R</th>\n",
       "      <th>RFA_2F</th>\n",
       "      <th>RFA_2A</th>\n",
       "      <th>MDMAUD_R</th>\n",
       "      <th>MDMAUD_F</th>\n",
       "      <th>MDMAUD_A</th>\n",
       "      <th>CLUSTER2</th>\n",
       "      <th>GEOCODE2</th>\n",
       "    </tr>\n",
       "  </thead>\n",
       "  <tbody>\n",
       "    <tr>\n",
       "      <th>0</th>\n",
       "      <td>8901</td>\n",
       "      <td>GRI</td>\n",
       "      <td>0</td>\n",
       "      <td>IL</td>\n",
       "      <td>61081</td>\n",
       "      <td></td>\n",
       "      <td></td>\n",
       "      <td>3712</td>\n",
       "      <td>0</td>\n",
       "      <td></td>\n",
       "      <td>...</td>\n",
       "      <td>0.0</td>\n",
       "      <td>0</td>\n",
       "      <td>L</td>\n",
       "      <td>4</td>\n",
       "      <td>E</td>\n",
       "      <td>X</td>\n",
       "      <td>X</td>\n",
       "      <td>X</td>\n",
       "      <td>39.0</td>\n",
       "      <td>C</td>\n",
       "    </tr>\n",
       "    <tr>\n",
       "      <th>1</th>\n",
       "      <td>9401</td>\n",
       "      <td>BOA</td>\n",
       "      <td>1</td>\n",
       "      <td>CA</td>\n",
       "      <td>91326</td>\n",
       "      <td></td>\n",
       "      <td></td>\n",
       "      <td>5202</td>\n",
       "      <td>0</td>\n",
       "      <td></td>\n",
       "      <td>...</td>\n",
       "      <td>0.0</td>\n",
       "      <td>0</td>\n",
       "      <td>L</td>\n",
       "      <td>2</td>\n",
       "      <td>G</td>\n",
       "      <td>X</td>\n",
       "      <td>X</td>\n",
       "      <td>X</td>\n",
       "      <td>1.0</td>\n",
       "      <td>A</td>\n",
       "    </tr>\n",
       "    <tr>\n",
       "      <th>2</th>\n",
       "      <td>9001</td>\n",
       "      <td>AMH</td>\n",
       "      <td>1</td>\n",
       "      <td>NC</td>\n",
       "      <td>27017</td>\n",
       "      <td></td>\n",
       "      <td></td>\n",
       "      <td>0</td>\n",
       "      <td>0</td>\n",
       "      <td></td>\n",
       "      <td>...</td>\n",
       "      <td>0.0</td>\n",
       "      <td>1</td>\n",
       "      <td>L</td>\n",
       "      <td>4</td>\n",
       "      <td>E</td>\n",
       "      <td>X</td>\n",
       "      <td>X</td>\n",
       "      <td>X</td>\n",
       "      <td>60.0</td>\n",
       "      <td>C</td>\n",
       "    </tr>\n",
       "    <tr>\n",
       "      <th>3</th>\n",
       "      <td>8701</td>\n",
       "      <td>BRY</td>\n",
       "      <td>0</td>\n",
       "      <td>CA</td>\n",
       "      <td>95953</td>\n",
       "      <td></td>\n",
       "      <td></td>\n",
       "      <td>2801</td>\n",
       "      <td>0</td>\n",
       "      <td></td>\n",
       "      <td>...</td>\n",
       "      <td>0.0</td>\n",
       "      <td>1</td>\n",
       "      <td>L</td>\n",
       "      <td>4</td>\n",
       "      <td>E</td>\n",
       "      <td>X</td>\n",
       "      <td>X</td>\n",
       "      <td>X</td>\n",
       "      <td>41.0</td>\n",
       "      <td>C</td>\n",
       "    </tr>\n",
       "    <tr>\n",
       "      <th>4</th>\n",
       "      <td>8601</td>\n",
       "      <td></td>\n",
       "      <td>0</td>\n",
       "      <td>FL</td>\n",
       "      <td>33176</td>\n",
       "      <td></td>\n",
       "      <td></td>\n",
       "      <td>2001</td>\n",
       "      <td>0</td>\n",
       "      <td>X</td>\n",
       "      <td>...</td>\n",
       "      <td>0.0</td>\n",
       "      <td>1</td>\n",
       "      <td>L</td>\n",
       "      <td>2</td>\n",
       "      <td>F</td>\n",
       "      <td>X</td>\n",
       "      <td>X</td>\n",
       "      <td>X</td>\n",
       "      <td>26.0</td>\n",
       "      <td>A</td>\n",
       "    </tr>\n",
       "  </tbody>\n",
       "</table>\n",
       "<p>5 rows × 481 columns</p>\n",
       "</div>"
      ],
      "text/plain": [
       "   ODATEDW OSOURCE  TCODE STATE    ZIP MAILCODE PVASTATE   DOB NOEXCH  \\\n",
       "0     8901     GRI      0    IL  61081                    3712      0   \n",
       "1     9401     BOA      1    CA  91326                    5202      0   \n",
       "2     9001     AMH      1    NC  27017                       0      0   \n",
       "3     8701     BRY      0    CA  95953                    2801      0   \n",
       "4     8601              0    FL  33176                    2001      0   \n",
       "\n",
       "  RECINHSE  ... TARGET_D HPHONE_D RFA_2R RFA_2F RFA_2A MDMAUD_R  MDMAUD_F  \\\n",
       "0           ...      0.0        0      L      4      E        X         X   \n",
       "1           ...      0.0        0      L      2      G        X         X   \n",
       "2           ...      0.0        1      L      4      E        X         X   \n",
       "3           ...      0.0        1      L      4      E        X         X   \n",
       "4        X  ...      0.0        1      L      2      F        X         X   \n",
       "\n",
       "  MDMAUD_A CLUSTER2 GEOCODE2  \n",
       "0        X     39.0        C  \n",
       "1        X      1.0        A  \n",
       "2        X     60.0        C  \n",
       "3        X     41.0        C  \n",
       "4        X     26.0        A  \n",
       "\n",
       "[5 rows x 481 columns]"
      ]
     },
     "execution_count": 3,
     "metadata": {},
     "output_type": "execute_result"
    }
   ],
   "source": [
    "data.head()"
   ]
  },
  {
   "cell_type": "code",
   "execution_count": 4,
   "id": "4012260d",
   "metadata": {},
   "outputs": [
    {
     "data": {
      "text/plain": [
       "TARGET_D    1.000000\n",
       "TARGET_B    0.774232\n",
       "RAMNT_4     0.268811\n",
       "RAMNT_21    0.099339\n",
       "RAMNT_9     0.090168\n",
       "              ...   \n",
       "RDATE_3    -0.125194\n",
       "RDATE_5    -0.220455\n",
       "RAMNT_5    -0.272147\n",
       "ADATE_5          NaN\n",
       "ADATE_15         NaN\n",
       "Name: TARGET_D, Length: 407, dtype: float64"
      ]
     },
     "execution_count": 4,
     "metadata": {},
     "output_type": "execute_result"
    }
   ],
   "source": [
    "data.corr()['TARGET_D'].sort_values(ascending=False)"
   ]
  },
  {
   "cell_type": "markdown",
   "id": "b8eb6572",
   "metadata": {},
   "source": [
    "### Check for null values in the numerical columns."
   ]
  },
  {
   "cell_type": "code",
   "execution_count": 5,
   "id": "7c2fc93c",
   "metadata": {},
   "outputs": [
    {
     "data": {
      "text/html": [
       "<div>\n",
       "<style scoped>\n",
       "    .dataframe tbody tr th:only-of-type {\n",
       "        vertical-align: middle;\n",
       "    }\n",
       "\n",
       "    .dataframe tbody tr th {\n",
       "        vertical-align: top;\n",
       "    }\n",
       "\n",
       "    .dataframe thead th {\n",
       "        text-align: right;\n",
       "    }\n",
       "</style>\n",
       "<table border=\"1\" class=\"dataframe\">\n",
       "  <thead>\n",
       "    <tr style=\"text-align: right;\">\n",
       "      <th></th>\n",
       "      <th>ODATEDW</th>\n",
       "      <th>TCODE</th>\n",
       "      <th>DOB</th>\n",
       "      <th>AGE</th>\n",
       "      <th>NUMCHLD</th>\n",
       "      <th>INCOME</th>\n",
       "      <th>WEALTH1</th>\n",
       "      <th>HIT</th>\n",
       "      <th>MBCRAFT</th>\n",
       "      <th>MBGARDEN</th>\n",
       "      <th>...</th>\n",
       "      <th>FISTDATE</th>\n",
       "      <th>NEXTDATE</th>\n",
       "      <th>TIMELAG</th>\n",
       "      <th>AVGGIFT</th>\n",
       "      <th>CONTROLN</th>\n",
       "      <th>TARGET_B</th>\n",
       "      <th>TARGET_D</th>\n",
       "      <th>HPHONE_D</th>\n",
       "      <th>RFA_2F</th>\n",
       "      <th>CLUSTER2</th>\n",
       "    </tr>\n",
       "  </thead>\n",
       "  <tbody>\n",
       "    <tr>\n",
       "      <th>0</th>\n",
       "      <td>8901</td>\n",
       "      <td>0</td>\n",
       "      <td>3712</td>\n",
       "      <td>60.0</td>\n",
       "      <td>NaN</td>\n",
       "      <td>NaN</td>\n",
       "      <td>NaN</td>\n",
       "      <td>0</td>\n",
       "      <td>NaN</td>\n",
       "      <td>NaN</td>\n",
       "      <td>...</td>\n",
       "      <td>8911</td>\n",
       "      <td>9003.0</td>\n",
       "      <td>4.0</td>\n",
       "      <td>7.741935</td>\n",
       "      <td>95515</td>\n",
       "      <td>0</td>\n",
       "      <td>0.0</td>\n",
       "      <td>0</td>\n",
       "      <td>4</td>\n",
       "      <td>39.0</td>\n",
       "    </tr>\n",
       "    <tr>\n",
       "      <th>1</th>\n",
       "      <td>9401</td>\n",
       "      <td>1</td>\n",
       "      <td>5202</td>\n",
       "      <td>46.0</td>\n",
       "      <td>1.0</td>\n",
       "      <td>6.0</td>\n",
       "      <td>9.0</td>\n",
       "      <td>16</td>\n",
       "      <td>0.0</td>\n",
       "      <td>0.0</td>\n",
       "      <td>...</td>\n",
       "      <td>9310</td>\n",
       "      <td>9504.0</td>\n",
       "      <td>18.0</td>\n",
       "      <td>15.666667</td>\n",
       "      <td>148535</td>\n",
       "      <td>0</td>\n",
       "      <td>0.0</td>\n",
       "      <td>0</td>\n",
       "      <td>2</td>\n",
       "      <td>1.0</td>\n",
       "    </tr>\n",
       "    <tr>\n",
       "      <th>2</th>\n",
       "      <td>9001</td>\n",
       "      <td>1</td>\n",
       "      <td>0</td>\n",
       "      <td>NaN</td>\n",
       "      <td>NaN</td>\n",
       "      <td>3.0</td>\n",
       "      <td>1.0</td>\n",
       "      <td>2</td>\n",
       "      <td>0.0</td>\n",
       "      <td>0.0</td>\n",
       "      <td>...</td>\n",
       "      <td>9001</td>\n",
       "      <td>9101.0</td>\n",
       "      <td>12.0</td>\n",
       "      <td>7.481481</td>\n",
       "      <td>15078</td>\n",
       "      <td>0</td>\n",
       "      <td>0.0</td>\n",
       "      <td>1</td>\n",
       "      <td>4</td>\n",
       "      <td>60.0</td>\n",
       "    </tr>\n",
       "    <tr>\n",
       "      <th>3</th>\n",
       "      <td>8701</td>\n",
       "      <td>0</td>\n",
       "      <td>2801</td>\n",
       "      <td>70.0</td>\n",
       "      <td>NaN</td>\n",
       "      <td>1.0</td>\n",
       "      <td>4.0</td>\n",
       "      <td>2</td>\n",
       "      <td>0.0</td>\n",
       "      <td>0.0</td>\n",
       "      <td>...</td>\n",
       "      <td>8702</td>\n",
       "      <td>8711.0</td>\n",
       "      <td>9.0</td>\n",
       "      <td>6.812500</td>\n",
       "      <td>172556</td>\n",
       "      <td>0</td>\n",
       "      <td>0.0</td>\n",
       "      <td>1</td>\n",
       "      <td>4</td>\n",
       "      <td>41.0</td>\n",
       "    </tr>\n",
       "    <tr>\n",
       "      <th>4</th>\n",
       "      <td>8601</td>\n",
       "      <td>0</td>\n",
       "      <td>2001</td>\n",
       "      <td>78.0</td>\n",
       "      <td>1.0</td>\n",
       "      <td>3.0</td>\n",
       "      <td>2.0</td>\n",
       "      <td>60</td>\n",
       "      <td>1.0</td>\n",
       "      <td>0.0</td>\n",
       "      <td>...</td>\n",
       "      <td>7903</td>\n",
       "      <td>8005.0</td>\n",
       "      <td>14.0</td>\n",
       "      <td>6.864865</td>\n",
       "      <td>7112</td>\n",
       "      <td>0</td>\n",
       "      <td>0.0</td>\n",
       "      <td>1</td>\n",
       "      <td>2</td>\n",
       "      <td>26.0</td>\n",
       "    </tr>\n",
       "  </tbody>\n",
       "</table>\n",
       "<p>5 rows × 407 columns</p>\n",
       "</div>"
      ],
      "text/plain": [
       "   ODATEDW  TCODE   DOB   AGE  NUMCHLD  INCOME  WEALTH1  HIT  MBCRAFT  \\\n",
       "0     8901      0  3712  60.0      NaN     NaN      NaN    0      NaN   \n",
       "1     9401      1  5202  46.0      1.0     6.0      9.0   16      0.0   \n",
       "2     9001      1     0   NaN      NaN     3.0      1.0    2      0.0   \n",
       "3     8701      0  2801  70.0      NaN     1.0      4.0    2      0.0   \n",
       "4     8601      0  2001  78.0      1.0     3.0      2.0   60      1.0   \n",
       "\n",
       "   MBGARDEN  ...  FISTDATE  NEXTDATE  TIMELAG    AVGGIFT  CONTROLN  TARGET_B  \\\n",
       "0       NaN  ...      8911    9003.0      4.0   7.741935     95515         0   \n",
       "1       0.0  ...      9310    9504.0     18.0  15.666667    148535         0   \n",
       "2       0.0  ...      9001    9101.0     12.0   7.481481     15078         0   \n",
       "3       0.0  ...      8702    8711.0      9.0   6.812500    172556         0   \n",
       "4       0.0  ...      7903    8005.0     14.0   6.864865      7112         0   \n",
       "\n",
       "   TARGET_D  HPHONE_D  RFA_2F  CLUSTER2  \n",
       "0       0.0         0       4      39.0  \n",
       "1       0.0         0       2       1.0  \n",
       "2       0.0         1       4      60.0  \n",
       "3       0.0         1       4      41.0  \n",
       "4       0.0         1       2      26.0  \n",
       "\n",
       "[5 rows x 407 columns]"
      ]
     },
     "execution_count": 5,
     "metadata": {},
     "output_type": "execute_result"
    }
   ],
   "source": [
    "numerical = data.select_dtypes(include=['int64', 'float64'])\n",
    "numerical.head()"
   ]
  },
  {
   "cell_type": "code",
   "execution_count": 6,
   "id": "3cc64437",
   "metadata": {},
   "outputs": [
    {
     "name": "stdout",
     "output_type": "stream",
     "text": [
      "    Variable  Null Count  Blank Count  Percentage\n",
      "346  RDATE_5       95403            0   99.990567\n",
      "368  RAMNT_5       95403            0   99.990567\n",
      "344  RDATE_3       95170            0   99.746363\n",
      "366  RAMNT_3       95170            0   99.746363\n",
      "345  RDATE_4       95131            0   99.705488\n",
      "..       ...         ...          ...         ...\n",
      "145    HUPA7           0            0    0.000000\n",
      "144    HUPA6           0            0    0.000000\n",
      "143    HUPA5           0            0    0.000000\n",
      "142    HUPA4           0            0    0.000000\n",
      "203     LFC6           0            0    0.000000\n",
      "\n",
      "[407 rows x 4 columns]\n"
     ]
    }
   ],
   "source": [
    "null_counts = numerical.isnull().sum()\n",
    "blank_counts = (numerical == ' ').sum()\n",
    "\n",
    "combined_counts = pd.concat([null_counts, blank_counts], axis=1)\n",
    "combined_counts.columns = ['Null Count', 'Blank Count']\n",
    "combined_counts['Percentage'] = ((combined_counts['Blank Count'] + combined_counts['Null Count']) / len(numerical)) * 100\n",
    "combined_counts.reset_index(inplace=True)\n",
    "combined_counts.rename(columns={'index': 'Variable'}, inplace=True)\n",
    "\n",
    "combined_counts.sort_values('Percentage', ascending=False, inplace=True)\n",
    "\n",
    "print(combined_counts)"
   ]
  },
  {
   "cell_type": "code",
   "execution_count": 7,
   "id": "b924efe1",
   "metadata": {},
   "outputs": [
    {
     "data": {
      "text/plain": [
       "array([   nan,  10.  ,   1.  ,  15.  ,   5.  ,   2.  ,  25.  ,  20.  ,\n",
       "         9.  ,  16.77,   3.  ,   7.  ,   4.  ,  13.  ,  50.  ,  12.  ,\n",
       "        35.  ,  30.  ,  11.  ,  26.  ,  40.  ,  17.  , 100.  ,   6.  ,\n",
       "        14.  ,  16.  ,   8.  ,  32.  ,  36.  ,  20.5 ,  24.  ,   7.5 ,\n",
       "        18.  ])"
      ]
     },
     "execution_count": 7,
     "metadata": {},
     "output_type": "execute_result"
    }
   ],
   "source": [
    "data['RAMNT_4'].unique()"
   ]
  },
  {
   "cell_type": "code",
   "execution_count": 8,
   "id": "0a64c3fa",
   "metadata": {},
   "outputs": [],
   "source": [
    "for col in numerical.columns:\n",
    "    if 'RAMNT' in col:\n",
    "        numerical[col] = numerical[col].fillna(0)"
   ]
  },
  {
   "cell_type": "markdown",
   "id": "e24f7026",
   "metadata": {},
   "source": [
    "### Use appropriate methods to clean the columns GEOCODE2, WEALTH1, ADI, DMA,and MSA."
   ]
  },
  {
   "cell_type": "code",
   "execution_count": 9,
   "id": "faba2079",
   "metadata": {},
   "outputs": [
    {
     "name": "stdout",
     "output_type": "stream",
     "text": [
      "A    34484\n",
      "B    28505\n",
      "D    16580\n",
      "C    15524\n",
      "       187\n",
      "Name: GEOCODE2, dtype: int64\n"
     ]
    }
   ],
   "source": [
    "print(data['GEOCODE2'].value_counts())"
   ]
  },
  {
   "cell_type": "code",
   "execution_count": 10,
   "id": "48e57861",
   "metadata": {},
   "outputs": [],
   "source": [
    "np.random.seed(0)\n",
    "\n",
    "dist = data['GEOCODE2'].value_counts(normalize=True)\n",
    "missing = data['GEOCODE2'].isnull()\n",
    "\n",
    "data.loc[missing,'GEOCODE2'] = np.random.choice(dist.index, size=len(data[missing]),p=dist.values)"
   ]
  },
  {
   "cell_type": "code",
   "execution_count": 11,
   "id": "5919919f",
   "metadata": {
    "scrolled": true
   },
   "outputs": [
    {
     "name": "stdout",
     "output_type": "stream",
     "text": [
      "9.0    7585\n",
      "8.0    6793\n",
      "7.0    6198\n",
      "6.0    5825\n",
      "5.0    5280\n",
      "4.0    4810\n",
      "3.0    4237\n",
      "2.0    4085\n",
      "1.0    3454\n",
      "0.0    2413\n",
      "Name: WEALTH1, dtype: int64\n"
     ]
    }
   ],
   "source": [
    "print(numerical['WEALTH1'].value_counts())"
   ]
  },
  {
   "cell_type": "code",
   "execution_count": 26,
   "id": "62a9def3",
   "metadata": {},
   "outputs": [
    {
     "data": {
      "image/png": "[encoded data removed]",
      "text/plain": [
       "<Figure size 640x480 with 1 Axes>"
      ]
     },
     "metadata": {},
     "output_type": "display_data"
    }
   ],
   "source": [
    "sns.histplot(numerical['WEALTH1'], kde=False)\n",
    "\n",
    "plt.title('Distribution of WEALTH1')\n",
    "plt.xlabel('WEALTH1')\n",
    "plt.ylabel('Number of Occurrences')\n",
    "\n",
    "plt.show()"
   ]
  },
  {
   "cell_type": "code",
   "execution_count": 12,
   "id": "cf60a412",
   "metadata": {},
   "outputs": [],
   "source": [
    "median_value = numerical['WEALTH1'].median()\n",
    "\n",
    "numerical['WEALTH1'].fillna(median_value, inplace=True)"
   ]
  },
  {
   "cell_type": "code",
   "execution_count": 13,
   "id": "2fb9a392",
   "metadata": {},
   "outputs": [
    {
     "name": "stdout",
     "output_type": "stream",
     "text": [
      "13.0     7296\n",
      "51.0     4622\n",
      "65.0     3765\n",
      "57.0     2836\n",
      "105.0    2617\n",
      "         ... \n",
      "651.0       1\n",
      "103.0       1\n",
      "601.0       1\n",
      "161.0       1\n",
      "147.0       1\n",
      "Name: ADI, Length: 204, dtype: int64\n"
     ]
    }
   ],
   "source": [
    "print(numerical['ADI'].value_counts())"
   ]
  },
  {
   "cell_type": "code",
   "execution_count": 25,
   "id": "6f05159b",
   "metadata": {},
   "outputs": [
    {
     "data": {
      "text/plain": [
       "<bound method NDFrame._add_numeric_operations.<locals>.sum of 0        False\n",
       "1        False\n",
       "2        False\n",
       "3        False\n",
       "4        False\n",
       "         ...  \n",
       "95407    False\n",
       "95408    False\n",
       "95409    False\n",
       "95410    False\n",
       "95411    False\n",
       "Name: ADI, Length: 95412, dtype: bool>"
      ]
     },
     "execution_count": 25,
     "metadata": {},
     "output_type": "execute_result"
    }
   ],
   "source": [
    "numerical['ADI'].isna().sum"
   ]
  },
  {
   "cell_type": "code",
   "execution_count": 15,
   "id": "7f8c9250",
   "metadata": {},
   "outputs": [
    {
     "data": {
      "image/png": "[encoded data removed]",
      "text/plain": [
       "<Figure size 640x480 with 1 Axes>"
      ]
     },
     "metadata": {},
     "output_type": "display_data"
    }
   ],
   "source": [
    "sns.histplot(numerical['ADI'], kde=False)\n",
    "\n",
    "plt.title('Distribution of ADI')\n",
    "plt.xlabel('ADI')\n",
    "plt.ylabel('Number of Occurrences')\n",
    "\n",
    "plt.show()"
   ]
  },
  {
   "cell_type": "markdown",
   "id": "95494ff3",
   "metadata": {},
   "source": [
    "ADI does not have NANs"
   ]
  },
  {
   "cell_type": "code",
   "execution_count": 24,
   "id": "da48c0ae",
   "metadata": {},
   "outputs": [
    {
     "name": "stdout",
     "output_type": "stream",
     "text": [
      "803.0    7296\n",
      "602.0    4632\n",
      "807.0    3765\n",
      "505.0    2839\n",
      "819.0    2588\n",
      "         ... \n",
      "569.0       1\n",
      "554.0       1\n",
      "584.0       1\n",
      "552.0       1\n",
      "516.0       1\n",
      "Name: DMA, Length: 206, dtype: int64\n"
     ]
    }
   ],
   "source": [
    "print(numerical['DMA'].value_counts())"
   ]
  },
  {
   "cell_type": "code",
   "execution_count": 23,
   "id": "a8ed7868",
   "metadata": {},
   "outputs": [
    {
     "data": {
      "text/plain": [
       "<bound method NDFrame._add_numeric_operations.<locals>.sum of 0        False\n",
       "1        False\n",
       "2        False\n",
       "3        False\n",
       "4        False\n",
       "         ...  \n",
       "95407    False\n",
       "95408    False\n",
       "95409    False\n",
       "95410    False\n",
       "95411    False\n",
       "Name: DMA, Length: 95412, dtype: bool>"
      ]
     },
     "execution_count": 23,
     "metadata": {},
     "output_type": "execute_result"
    }
   ],
   "source": [
    "numerical['DMA'].isna().sum"
   ]
  },
  {
   "cell_type": "markdown",
   "id": "dc3adab0",
   "metadata": {},
   "source": [
    "DMA does not have any NANs"
   ]
  },
  {
   "cell_type": "code",
   "execution_count": 19,
   "id": "63d64936",
   "metadata": {},
   "outputs": [
    {
     "name": "stdout",
     "output_type": "stream",
     "text": [
      "0.0       21333\n",
      "4480.0     4606\n",
      "1600.0     4059\n",
      "2160.0     2586\n",
      "520.0      1685\n",
      "          ...  \n",
      "9140.0        1\n",
      "3200.0        1\n",
      "9280.0        1\n",
      "743.0         1\n",
      "8480.0        1\n",
      "Name: MSA, Length: 298, dtype: int64\n"
     ]
    }
   ],
   "source": [
    "print(numerical['MSA'].value_counts())"
   ]
  },
  {
   "cell_type": "code",
   "execution_count": 21,
   "id": "169cd4b9",
   "metadata": {},
   "outputs": [
    {
     "data": {
      "text/plain": [
       "<bound method NDFrame._add_numeric_operations.<locals>.sum of 0        False\n",
       "1        False\n",
       "2        False\n",
       "3        False\n",
       "4        False\n",
       "         ...  \n",
       "95407    False\n",
       "95408    False\n",
       "95409    False\n",
       "95410    False\n",
       "95411    False\n",
       "Name: MSA, Length: 95412, dtype: bool>"
      ]
     },
     "execution_count": 21,
     "metadata": {},
     "output_type": "execute_result"
    }
   ],
   "source": [
    "numerical['MSA'].isna().sum"
   ]
  },
  {
   "cell_type": "markdown",
   "id": "2b721f4b",
   "metadata": {},
   "source": [
    "MSA does not have any NANs"
   ]
  }
 ],
 "metadata": {
  "kernelspec": {
   "display_name": "Python 3 (ipykernel)",
   "language": "python",
   "name": "python3"
  },
  "language_info": {
   "codemirror_mode": {
    "name": "ipython",
    "version": 3
   },
   "file_extension": ".py",
   "mimetype": "text/x-python",
   "name": "python",
   "nbconvert_exporter": "python",
   "pygments_lexer": "ipython3",
   "version": "3.10.9"
  }
 },
 "nbformat": 4,
 "nbformat_minor": 5
}
